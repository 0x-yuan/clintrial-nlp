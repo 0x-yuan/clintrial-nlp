{
 "cells": [
  {
   "cell_type": "code",
   "execution_count": 3,
   "id": "d2d0b772",
   "metadata": {},
   "outputs": [
    {
     "name": "stdout",
     "output_type": "stream",
     "text": [
      "200\n"
     ]
    }
   ],
   "source": [
    "import json\n",
    "import sys\n",
    "import os\n",
    "\n",
    "with open(\"training_data/dev.json\", \"r\") as f:\n",
    "    data = json.load(f)\n",
    "print(len(data))"
   ]
  },
  {
   "cell_type": "code",
   "execution_count": 9,
   "id": "f1ee5242",
   "metadata": {},
   "outputs": [
    {
     "name": "stdout",
     "output_type": "stream",
     "text": [
      "1adc970c-d433-44d0-aa09-d3834986f7a2\n"
     ]
    }
   ],
   "source": [
    "keys = data.keys()\n",
    "type(keys)\n",
    "# get the first key\n",
    "first_key = next(iter(keys))\n",
    "print(first_key)"
   ]
  },
  {
   "cell_type": "code",
   "execution_count": 11,
   "id": "693eb81c",
   "metadata": {},
   "outputs": [
    {
     "name": "stdout",
     "output_type": "stream",
     "text": [
      "{'Type': 'Single', 'Section_id': 'Results', 'Primary_id': 'NCT00066573', 'Statement': 'there is a 13.2% difference between the results from the two the primary trial cohorts', 'Label': 'Contradiction'}\n"
     ]
    }
   ],
   "source": [
    "data_1 = data[first_key]\n",
    "print(data_1)"
   ]
  },
  {
   "cell_type": "code",
   "execution_count": 12,
   "id": "e4a0b8d2",
   "metadata": {},
   "outputs": [
    {
     "data": {
      "text/plain": [
       "True"
      ]
     },
     "execution_count": 12,
     "metadata": {},
     "output_type": "execute_result"
    }
   ],
   "source": [
    "from dotenv import load_dotenv\n",
    "load_dotenv()"
   ]
  },
  {
   "cell_type": "code",
   "execution_count": 17,
   "id": "9b23f371",
   "metadata": {},
   "outputs": [],
   "source": [
    "def load_CT(name:str)-> dict:\n",
    "    with open(os.path.join(\"training_data\",\"CT json\", name+\".json\"), \"r\") as f:\n",
    "        data = json.load(f)\n",
    "    return data"
   ]
  },
  {
   "cell_type": "code",
   "execution_count": 23,
   "id": "52eed959",
   "metadata": {},
   "outputs": [],
   "source": [
    "import instructor\n",
    "import openai\n",
    "from atomic_agents.lib.components.agent_memory import AgentMemory\n",
    "from atomic_agents.agents.base_agent import BaseAgent, BaseAgentConfig, BaseAgentInputSchema\n",
    "from atomic_agents.lib.components.system_prompt_generator import SystemPromptGenerator\n",
    "\n",
    "memory = AgentMemory()\n",
    "client = instructor.from_openai(openai.OpenAI())\n",
    "system_prompt_generator = SystemPromptGenerator(\n",
    "    background=[\"You are a medical reasoning assistant.\",\n",
    "    \"\"\"You will be given:\n",
    "- Clinical trial\n",
    "- Relevant section's name of the trial (Eligibility/Intervention/Results/Adverse Events)\n",
    "- A statement about the trial\"\"\",\n",
    "\"\"\"\n",
    "Decide if the statement is:\n",
    "- Entailment: directly supported by the data\n",
    "- Contradiction: refuted by the data\n",
    "\"\"\"],\n",
    "    steps=[\"Read the statement.\",\n",
    "           \"Read the relevant section of the trial.\",\n",
    "           \"Determine if the statement is supported or refuted by the data.\"],\n",
    "    output_instructions=[\"\"\"Only output **one of the following words**, exactly as shown:\n",
    "- Entailment\n",
    "- Contradiction\"\"\",\n",
    "\"For example, if the statement is supported by the data, just output 'Entailment'.\"]\n",
    ")\n",
    "agent = BaseAgent(\n",
    "    config=BaseAgentConfig(\n",
    "        client=client,\n",
    "        model=\"gpt-4o-mini\",  # Use your provider's model\n",
    "        system_prompt_generator=system_prompt_generator,\n",
    "        memory=memory\n",
    "    )\n",
    ")"
   ]
  },
  {
   "cell_type": "code",
   "execution_count": 31,
   "id": "f7c5df13",
   "metadata": {},
   "outputs": [
    {
     "name": "stdout",
     "output_type": "stream",
     "text": [
      "\n",
      "Statement:\n",
      "there is a 13.2% difference between the results from the two the primary trial cohorts\n",
      "\n",
      "Clinical Trial:\n",
      "{\n",
      "  \"Clinical Trial ID\": \"NCT00066573\",\n",
      "  \"Intervention\": [\n",
      "    \"INTERVENTION 1: \",\n",
      "    \"  Exemestane\",\n",
      "    \"  Patients receive oral exemestane (25 mg) once daily for 5 years.\",\n",
      "    \"  exemestane: Given orally\",\n",
      "    \"INTERVENTION 2: \",\n",
      "    \"  Anastrozole\",\n",
      "    \"  Patients receive oral anastrozole (1 mg) once daily for 5 years.\",\n",
      "    \"  anastrozole: Given orally\"\n",
      "  ],\n",
      "  \"Eligibility\": [\n",
      "    \"DISEASE CHARACTERISTICS:\",\n",
      "    \"  Histologically confirmed invasive breast cancer\",\n",
      "    \"  pT1-3; pNX, pN0-2 or pN3*; M0\",\n",
      "    \"  Neoadjuvant patients are eligible no earlier than 3 weeks or later than 3 months after excisional surgery, provided both the clinical-diagnostic staging of cancer and postsurgical resection-pathologic staging of cancer meet the requirements for primary tumor, regional lymph nodes, and distant metastasis classification NOTE: *Only when the sole basis for this classification is the presence of 10 or more involved axillary lymph nodes\",\n",
      "    \"  Completely resected disease\",\n",
      "    \"  Primary surgery performed at least 3 weeks but no more than 3 months before study entry (if no chemotherapy was given)\",\n",
      "    \"  Primary surgery is defined as the last surgery at which histologic evidence of invasive or in situ disease was present in the pathology specimen\",\n",
      "    \"  Patients with positive sentinel lymph node biopsy are eligible provided they have had a subsequent axillary lymph node dissection\",\n",
      "    \"  No metachronous breast cancer\",\n",
      "    \"  Bilateral mammogram within the past 12 months unless initial surgery was a total mastectomy, in which case only a mammogram of the remaining breast is required\",\n",
      "    \"  No metastases confirmed by 1 of the following methods:\",\n",
      "    \"  Bone scan* (required only if alkaline phosphatase is at least 2 times normal and/or there are symptoms of metastatic disease)\",\n",
      "    \"  Abdominal ultrasound or CT scan (required only if AST/ALT or alkaline phosphatase is at least 2 times normal, unless the elevation is in the bone fraction)\",\n",
      "    \"  Chest x-ray NOTE: *Confirmatory x-ray, CT scan, or MRI required if the bone scan results are questionable\",\n",
      "    \"  No locally recurrent disease\",\n",
      "    \"  No prior or concurrent carcinoma in situ of the contralateral breast treated with partial mastectomy and/or hormonal therapy\",\n",
      "    \"  Patients with prior or concurrent carcinoma in situ of the ipsilateral breast are eligible provided the tumor was completely excised AND they have not received prior hormonal therapy\",\n",
      "    \"  Hormone receptor status:\",\n",
      "    \"  Estrogen receptor- and/or progesterone receptor-positive by immunohistochemistry or tumor receptor content  10 fmol/mg protein\",\n",
      "    \"  PATIENT CHARACTERISTICS:\",\n",
      "    \"  Age\",\n",
      "    \"  Postmenopausal\",\n",
      "    \"  Sex\",\n",
      "    \"  Female\",\n",
      "    \"  Menopausal status\",\n",
      "    \"  Postmenopausal prior to chemotherapy, defined as 1 of the following:\",\n",
      "    \"  Over 60 years of age\",\n",
      "    \"  Age 45-59 with spontaneous cessation of menses for more than 1 year prior to study entry\",\n",
      "    \"  Age 45-59 with menses ceasing (secondary to hysterectomy or spontaneously) within the past year AND a follicle-stimulating hormone (FSH) level prior to study entry in the postmenopausal range*\",\n",
      "    \"  Age 45-59, previously on hormone replacement therapy (HRT) and have discontinued HRT upon diagnosis of this malignancy AND has an FSH level prior to study entry in the postmenopausal range*\",\n",
      "    \"  Has undergone bilateral oophorectomy NOTE: *By institutional standards OR > 34.4 IU/L if institutional range is not available)\",\n",
      "    \"  Performance status\",\n",
      "    \"  ECOG 0-2\",\n",
      "    \"  Life expectancy\",\n",
      "    \"  At least 5 years\",\n",
      "    \"  Hematopoietic\",\n",
      "    \"  WBC at least 3,000/mm^3 OR\",\n",
      "    \"  Granulocyte count at least 1,500/mm^3 AND\",\n",
      "    \"  Platelet count at least 100,000/mm^3\",\n",
      "    \"  Hepatic\",\n",
      "    \"  See Disease Characteristics\",\n",
      "    \"  AST and/or ALT less than 2 times upper limit of normal (ULN)*\",\n",
      "    \"  Alkaline phosphatase less than 2 times ULN* NOTE: *Unless imaging examinations have ruled out metastatic disease\",\n",
      "    \"  Renal\",\n",
      "    \"  Not specified\",\n",
      "    \"  Other\",\n",
      "    \"  Able to swallow study medication and have adequate unassisted oral intake in order to maintain reasonable nutrition status\",\n",
      "    \"  No other non-breast malignancy within the past 5 years except adequately treated nonmelanoma skin cancer, curatively treated carcinoma in situ of the cervix, or other curatively treated solid tumors with no evidence of disease for at least 5 years\",\n",
      "    \"  No other concurrent medical or psychiatric condition that would preclude study participation and/or interfere with results\",\n",
      "    \"  PRIOR CONCURRENT THERAPY:\",\n",
      "    \"  Biologic therapy\",\n",
      "    \"  Prior and concurrent trastuzumab (Herceptin\\u00ae) allowed\",\n",
      "    \"  Chemotherapy\",\n",
      "    \"  See Disease Characteristics\",\n",
      "    \"  At least 3 weeks but no more than 3 months since prior chemotherapy\",\n",
      "    \"  Prior adjuvant chemotherapy allowed\",\n",
      "    \"  Endocrine therapy\",\n",
      "    \"  See Disease Characteristics\",\n",
      "    \"  No prior aromatase inhibitor\",\n",
      "    \"  No prior tamoxifen or other selective estrogen receptor modulators (SERMs) except raloxifene\",\n",
      "    \"  At least 3 weeks since prior raloxifene\",\n",
      "    \"  At least 3 weeks since prior and no concurrent over-the-counter products or supplements considered to have an estrogenic effect, including any of the following:\",\n",
      "    \"  Ginseng\",\n",
      "    \"  Ginkgo biloba\",\n",
      "    \"  Black cohosh\",\n",
      "    \"  Dong quai\",\n",
      "    \"  Fortified soy supplements (e.g., phytoestrogen preparations)\",\n",
      "    \"  At least 3 weeks since other prior hormonal therapy or steroids considered to have an estrogenic effect\",\n",
      "    \"  No concurrent estrogens, progesterones, androgens, or SERMs\",\n",
      "    \"  Concurrent intermittent vaginal estrogens (e.g., vagifem, estrogen vaginal cream, testosterone, estradiol vaginal gel, or Estring) allowed if other local measures for intractable vaginal atrophy are insufficient\",\n",
      "    \"  No other concurrent therapy that would have an estrogenic effect, including endocrine therapy, hormonal therapy, or steroid therapy\",\n",
      "    \"  Radiotherapy\",\n",
      "    \"  See Disease Characteristics\",\n",
      "    \"  Prior adjuvant radiotherapy allowed\",\n",
      "    \"  Concurrent radiotherapy allowed\",\n",
      "    \"  Surgery\",\n",
      "    \"  See Disease Characteristics\"\n",
      "  ],\n",
      "  \"Results\": [\n",
      "    \"Outcome Measurement: \",\n",
      "    \"  Event-free Survival\",\n",
      "    \"  Event free survival, the primary endpoint of this study, is defined as the time from randomization to the time of documented locoregional or distant recurrence, new primary breast cancer, or death from any cause.\",\n",
      "    \"  Time frame: 5 years\",\n",
      "    \"Results 1: \",\n",
      "    \"  Arm/Group Title: Exemestane\",\n",
      "    \"  Arm/Group Description: Patients receive oral exemestane (25 mg) once daily for 5 years.\",\n",
      "    \"  exemestane: Given orally\",\n",
      "    \"  Overall Number of Participants Analyzed: 3789\",\n",
      "    \"  Measure Type: Number\",\n",
      "    \"  Unit of Measure: percentage of participants  88        (87 to 89)\",\n",
      "    \"Results 2: \",\n",
      "    \"  Arm/Group Title: Anastrozole\",\n",
      "    \"  Arm/Group Description: Patients receive oral anastrozole (1 mg) once daily for 5 years.\",\n",
      "    \"  anastrozole: Given orally\",\n",
      "    \"  Overall Number of Participants Analyzed: 3787\",\n",
      "    \"  Measure Type: Number\",\n",
      "    \"  Unit of Measure: percentage of participants  89        (88 to 90)\"\n",
      "  ],\n",
      "  \"Adverse Events\": [\n",
      "    \"Adverse Events 1:\",\n",
      "    \"  Total: 19/3761 (0.51%)\",\n",
      "    \"  Cardiac ischemia/infarction 3/3761 (0.08%)\",\n",
      "    \"  Left ventricular systolic dysfunction 1/3761 (0.03%)\",\n",
      "    \"  Restrictive cardiomyopathy 1/3761 (0.03%)\",\n",
      "    \"  Supraven.arrhyth. Atrial flutter 1/3761 (0.03%)\",\n",
      "    \"  Ventric.arrhyth. Trigeminy 1/3761 (0.03%)\",\n",
      "    \"  Hypothyroidism 0/3761 (0.00%)\",\n",
      "    \"  Blurred vision 1/3761 (0.03%)\",\n",
      "    \"  Nyctalopia 0/3761 (0.00%)\",\n",
      "    \"  Ocular - Other 1/3761 (0.03%)\",\n",
      "    \"Adverse Events 2:\",\n",
      "    \"  Total: 7/3759 (0.19%)\",\n",
      "    \"  Cardiac ischemia/infarction 0/3759 (0.00%)\",\n",
      "    \"  Left ventricular systolic dysfunction 0/3759 (0.00%)\",\n",
      "    \"  Restrictive cardiomyopathy 0/3759 (0.00%)\",\n",
      "    \"  Supraven.arrhyth. Atrial flutter 0/3759 (0.00%)\",\n",
      "    \"  Ventric.arrhyth. Trigeminy 0/3759 (0.00%)\",\n",
      "    \"  Hypothyroidism 1/3759 (0.03%)\",\n",
      "    \"  Blurred vision 0/3759 (0.00%)\",\n",
      "    \"  Nyctalopia 1/3759 (0.03%)\",\n",
      "    \"  Ocular - Other 0/3759 (0.00%)\"\n",
      "  ]\n",
      "}\n",
      "\n",
      "Please determine if the statement is supported or refuted by the trial data.\n",
      "\n",
      "Contradiction\n"
     ]
    }
   ],
   "source": [
    "from atomic_agents.agents.base_agent import BaseAgent, BaseAgentConfig, BaseAgentInputSchema, BaseAgentOutputSchema\n",
    "\n",
    "input_template = \"\"\"\n",
    "Statement:\n",
    "{$statement$}\n",
    "\n",
    "Clinical Trial:\n",
    "{$trial$}\n",
    "\n",
    "Please determine if the statement is supported or refuted by the trial data.\n",
    "\"\"\"\n",
    "\n",
    "statement_1 = data_1['Statement']\n",
    "trial_1 = load_CT(data_1['Primary_id'])\n",
    "input_text = input_template.replace(\"{$statement$}\", statement_1).replace(\"{$trial$}\", json.dumps(trial_1, indent=2))\n",
    "print(input_text)\n",
    "input_schema = BaseAgentInputSchema(\n",
    "    chat_message=input_text)\n",
    "response = agent.run(input_schema)\n",
    "print(response.chat_message)\n"
   ]
  },
  {
   "cell_type": "code",
   "execution_count": 32,
   "id": "696144c2",
   "metadata": {},
   "outputs": [
    {
     "name": "stdout",
     "output_type": "stream",
     "text": [
      "Contradiction\n"
     ]
    }
   ],
   "source": [
    "print(response.chat_message)"
   ]
  }
 ],
 "metadata": {
  "kernelspec": {
   "display_name": "ai_bio_ws",
   "language": "python",
   "name": "python3"
  },
  "language_info": {
   "codemirror_mode": {
    "name": "ipython",
    "version": 3
   },
   "file_extension": ".py",
   "mimetype": "text/x-python",
   "name": "python",
   "nbconvert_exporter": "python",
   "pygments_lexer": "ipython3",
   "version": "3.11.13"
  }
 },
 "nbformat": 4,
 "nbformat_minor": 5
}
